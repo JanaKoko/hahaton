{
 "cells": [
  {
   "cell_type": "code",
   "execution_count": null,
   "metadata": {},
   "outputs": [],
   "source": [
    "import csv"
   ]
  },
  {
   "cell_type": "code",
   "execution_count": null,
   "metadata": {},
   "outputs": [],
   "source": [
    "#чтение csv-файла\n",
    "def csv_dict_reader(file_obj, d):#читает словарь из таблицы\n",
    "    reader = csv.DictReader(file_obj, delimiter=d)\n",
    "    return reader\n",
    "\n",
    "def table_lines(reader, title):\n",
    "    for line in reader:\n",
    "        print(line[title]) #название нужной колонки\n",
    "\n",
    "#чтение txt-файла с отсечением всякой ерунды\n",
    "def clean(file, znaki): #имя файла и список убираемых знаков препинания\n",
    "    with open (file, encoding = 'utf-8') as f:\n",
    "        my_file = f.read()\n",
    "    for x in znaki:\n",
    "        my_file = my_file.replace(x, '')\n",
    "    my_file = my_file.lower()\n",
    "    list_file = my_file.split()\n",
    "    return list_file\n",
    "\n",
    "#print(clean('book.txt', ['.', ',', '-']))\n",
    "\n",
    "\n",
    "punct = [',', '.', ';', ':', '!', '\"', '-', '(', ')', '–', '…', '?', '--', ',']\n"
   ]
  },
  {
   "cell_type": "code",
   "execution_count": null,
   "metadata": {},
   "outputs": [],
   "source": [
    "with open('memoires.csv', encoding = 'utf-8') as f_obj:\n",
    "    my_reader = csv_dict_reader(f_obj, ',') #разделитель\n",
    "    table_lines(my_reader, 'Target')"
   ]
  },
  {
   "cell_type": "code",
   "execution_count": null,
   "metadata": {},
   "outputs": [],
   "source": [
    "punct = [',', '.', ';', ':', '!', '\"', '-', '(', ')', '–', '…', '?', '--', ',']\n",
    "z = punct\n",
    "for a in range(len(z)):\n",
    "    if z[a] in punct:\n",
    "        print(a, z[a], '@')\n",
    "        #z.pop(a)\n",
    "        #print(z)"
   ]
  }
 ],
 "metadata": {
  "kernelspec": {
   "display_name": "Python 3",
   "language": "python",
   "name": "python3"
  },
  "language_info": {
   "codemirror_mode": {
    "name": "ipython",
    "version": 3
   },
   "file_extension": ".py",
   "mimetype": "text/x-python",
   "name": "python",
   "nbconvert_exporter": "python",
   "pygments_lexer": "ipython3",
   "version": "3.8.6rc1"
  }
 },
 "nbformat": 4,
 "nbformat_minor": 4
}
