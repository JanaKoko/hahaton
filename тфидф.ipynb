{
 "cells": [
  {
   "cell_type": "code",
   "execution_count": 6,
   "metadata": {},
   "outputs": [],
   "source": [
    "from sklearn.feature_extraction.text import TfidfVectorizer\n",
    "from nltk.corpus import stopwords\n",
    "import numpy as np"
   ]
  },
  {
   "cell_type": "code",
   "execution_count": 7,
   "metadata": {},
   "outputs": [],
   "source": [
    "t_g = 'lemmas_Glinka.txt'\n",
    "#print('Done!')\n",
    "t_l = 'lemmas_Lazhechnikov.txt'\n",
    "#print('Done!')\n",
    "t_dav = 'lemmas_Davydov.txt'\n",
    "#print('Done!')\n",
    "t_d = 'lemmas_Durova.txt'\n",
    "#print('Done!')\n",
    "t_sr = 'lemmas_Smirnova_Rosset.txt'\n",
    "t_v = 'lemmas_Volkonskaya.txt'"
   ]
  },
  {
   "cell_type": "code",
   "execution_count": 8,
   "metadata": {},
   "outputs": [],
   "source": [
    "def read(f):\n",
    "    with open (f, encoding = 'utf-8') as file:\n",
    "        text = file.read()\n",
    "    return text"
   ]
  },
  {
   "cell_type": "code",
   "execution_count": 9,
   "metadata": {},
   "outputs": [],
   "source": [
    "g = read(t_g)\n",
    "l = read(t_l)\n",
    "dav = read(t_dav)\n",
    "d = read(t_d)\n",
    "sr = read(t_sr)\n",
    "v = read(t_v)"
   ]
  },
  {
   "cell_type": "code",
   "execution_count": 10,
   "metadata": {},
   "outputs": [],
   "source": [
    "articles_preprocessed = [g, l, dav, d, sr, v]\n",
    "stops = stopwords.words(\"russian\") + ['свой', 'весь', 'который', 'сей', 'это', 'наш', 'го',\n",
    "                                     'de', 'me', 'un', 'il', 'elle', 'en', 'ce', 'était', 'est', 'et',\n",
    "                                     'la', 'avec', 'lui', 'ces']"
   ]
  },
  {
   "cell_type": "code",
   "execution_count": 11,
   "metadata": {},
   "outputs": [],
   "source": [
    "tfidf = TfidfVectorizer(\n",
    "    analyzer=\"word\", # анализировать по словам или по символам (char)\n",
    "    stop_words=stops # передаём список стоп-слов для русского из NLTK\n",
    ")"
   ]
  },
  {
   "cell_type": "code",
   "execution_count": 12,
   "metadata": {},
   "outputs": [
    {
     "name": "stdout",
     "output_type": "stream",
     "text": [
      "Матрица на 6 документов и 16938 термов\n"
     ]
    }
   ],
   "source": [
    "articles_tfidf = tfidf.fit_transform(articles_preprocessed)\n",
    "print(f\"Матрица на {articles_tfidf.shape[0]} документов и {articles_tfidf.shape[1]} термов\")"
   ]
  },
  {
   "cell_type": "code",
   "execution_count": 13,
   "metadata": {},
   "outputs": [],
   "source": [
    "def get_top_tf_idf_words(tfidf_vector, feature_names, top_n):\n",
    "    sorted_nzs = np.argsort(tfidf_vector.data)[:-(top_n+1):-1]\n",
    "    return feature_names[tfidf_vector.indices[sorted_nzs]]"
   ]
  },
  {
   "cell_type": "code",
   "execution_count": 16,
   "metadata": {},
   "outputs": [
    {
     "name": "stdout",
     "output_type": "stream",
     "text": [
      "g\n",
      "['войско' 'генерал' 'неприятель' 'город' 'видеть' 'место' 'мочь' 'самый'\n",
      " 'прекрасный' 'человек' 'время' 'дорога' 'наполеон' 'дом' 'день' 'француз'\n",
      " 'русский' 'иметь' 'великий' 'большой' 'война' 'сражение' 'армия' 'народ'\n",
      " 'год']\n",
      "l\n",
      "['русский' 'мочь' 'несколько' 'город' 'сердце' 'великий' 'здешний'\n",
      " 'сказать' 'видеть' 'народ' 'год' 'место' 'новый' 'говорить' 'прекрасный'\n",
      " 'государь' 'слава' 'войско' 'время' 'самый' 'дом' 'первый' 'имя'\n",
      " 'отечество' 'любовь']\n",
      "dav\n",
      "['неприятель' 'армия' 'отряд' 'партия' 'полк' 'генерал' 'войско' 'время'\n",
      " 'ермолов' 'неприятельский' 'дорога' 'чрез' 'находиться' 'село' 'казак'\n",
      " 'человек' 'число' 'мочь' 'оный' 'чичагов' 'сие' 'князь' 'граф' 'главный'\n",
      " 'вязьма']\n",
      "d\n",
      "['лошадь' 'алкид' 'сказать' 'мочь' 'говорить' 'полк' 'очень' 'иметь'\n",
      " 'рука' 'день' 'давать' 'офицер' 'батюшка' 'видеть' 'пойти' 'знать'\n",
      " 'место' 'улан' 'человек' 'год' 'делать' 'идти' 'взять' 'время'\n",
      " 'спрашивать']\n",
      "sr\n",
      "['говорить' 'государь' 'очень' 'март' 'сказать' 'год' 'нессельрод'\n",
      " 'уваров' 'читать' 'дело' 'большой' 'первый' 'орлов' 'гоголь' 'импер'\n",
      " 'князь' 'граф' 'знать' 'время' 'случай' 'петр' 'гр' 'тютчев' 'pour'\n",
      " 'писать']\n",
      "v\n",
      "['гора' 'ниоб' 'взор' 'природа' 'мочь' 'ребенок' 'мать' 'земля' 'рыцарь'\n",
      " 'цветок' 'душа' 'лес' 'черный' 'стоять' 'твой' 'сердце' 'тироль'\n",
      " 'благоуханный' 'народ' 'великий' 'солнце' 'любовь' 'италия' 'смотреть'\n",
      " 'видеть']\n"
     ]
    }
   ],
   "source": [
    "feature_names = np.array(tfidf.get_feature_names())\n",
    "\n",
    "for i, article in enumerate(['g', 'l', 'dav', 'd','sr', 'v']):\n",
    "    # напечатаю только первые 5 статей\n",
    "    if i < 6:\n",
    "        article_vector = articles_tfidf[i, :]\n",
    "        words = get_top_tf_idf_words(article_vector, feature_names, 25)\n",
    "        print(article)\n",
    "        print(words)"
   ]
  },
  {
   "cell_type": "code",
   "execution_count": null,
   "metadata": {},
   "outputs": [],
   "source": []
  },
  {
   "cell_type": "code",
   "execution_count": null,
   "metadata": {},
   "outputs": [],
   "source": []
  }
 ],
 "metadata": {
  "kernelspec": {
   "display_name": "Python 3",
   "language": "python",
   "name": "python3"
  },
  "language_info": {
   "codemirror_mode": {
    "name": "ipython",
    "version": 3
   },
   "file_extension": ".py",
   "mimetype": "text/x-python",
   "name": "python",
   "nbconvert_exporter": "python",
   "pygments_lexer": "ipython3",
   "version": "3.8.6rc1"
  }
 },
 "nbformat": 4,
 "nbformat_minor": 4
}
